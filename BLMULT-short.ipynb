{
 "cells": [
  {
   "cell_type": "markdown",
   "metadata": {},
   "source": [
    "# Performing surface adjustment for NUCAPS\n",
    "\n",
    "Author: Rebekah Esmaili, Science and Technology Corportation, rebekah@stcnet.com\n",
    "\n",
    "Description:\n",
    "\n",
    "* [NUCAPS](https://weather.msfc.nasa.gov/nucaps/) satellite soundings retrieves temperature and trace gases in three dimensions. Suomi NPP and NOAA-20 NUCAPS data can be ordered from [CLASS](https://www.class.noaa.gov/).\n",
    "\n",
    "* This Jupyter Notebook contains Python 3 code that will open the netCDF files and determine the **surface temperature** and **surface water vapor**. \n",
    "* Note that I am writing code to illustrate data use, and it is not optimized for speed nor does it follow \"Pythonic\" practices.\n",
    "\n",
    "In this example, we'll use the following packages:"
   ]
  },
  {
   "cell_type": "code",
   "execution_count": 1,
   "metadata": {},
   "outputs": [],
   "source": [
    "import xarray as xr\n",
    "import matplotlib.pyplot as plt\n",
    "import numpy as np"
   ]
  },
  {
   "cell_type": "markdown",
   "metadata": {},
   "source": [
    "## Opening NUCAPS file and inspecting the contents"
   ]
  },
  {
   "cell_type": "markdown",
   "metadata": {},
   "source": [
    "First, I import NUCAPS using the [xarray](http://xarray.pydata.org/en/stable/io.html). You can also use the netCDF4 package if you are more familiar with it than xarray."
   ]
  },
  {
   "cell_type": "code",
   "execution_count": 2,
   "metadata": {},
   "outputs": [],
   "source": [
    "data_dir = 'C:\\\\Users\\\\rebekah\\\\Dropbox\\\\STC\\\\Data_Files\\\\'\n",
    "fname = 'NUCAPS-EDR_v2r0_npp_s201903031848390_e201903031849090_c201903031941100.nc'\n",
    "\n",
    "nucaps = xr.open_dataset(data_dir + fname, decode_times=False)"
   ]
  },
  {
   "cell_type": "markdown",
   "metadata": {},
   "source": [
    "Below I print out all of the available fields that we can access. \n",
    "\n",
    "In this example, I will use the following __dimensions__:\n",
    "\n",
    "* Number_of_CrIS_FORs: This is the number if fields of regard (FOR) or footprints in the file. Footprints have a diameter of 50 (nadir) to 150 (scan edge) km. Each footprint contains a vertical profile of temperature, water vapor, and trace gases.\n",
    "* Number_of_P_Levels: The number of pressure levels. This is always 100.\n",
    "\n",
    "I will also use the following __Variables__:\n",
    "* Pressure\n",
    "* Effective_Pressure\n",
    "* Surface Pressure\n",
    "* Temperature\n",
    "* H2O: The column density of water vapor at with \n",
    "\n",
    "Both Temperature and Water vapor have dimensions of 120 footprints (Number_of_CrIS_FORs in the netCDF file) and on the 100 level Pressure grid (Number_of_P_Levels), but temperature is measured on pressure levels (Pressure) while H2O is on pressure layers (Effective_Pressure)."
   ]
  },
  {
   "cell_type": "code",
   "execution_count": 3,
   "metadata": {},
   "outputs": [
    {
     "name": "stdout",
     "output_type": "stream",
     "text": [
      "<xarray.Dataset>\n",
      "Dimensions:               (Number_of_Cloud_Emis_Hing_Pts: 100, Number_of_Cloud_Layers: 8, Number_of_CrIS_FORs: 120, Number_of_Ispares: 129, Number_of_MW_Spectral_Pts: 16, Number_of_P_Levels: 100, Number_of_Rspares: 262, Number_of_Stability_Parameters: 16, Number_of_Surf_Emis_Hinge_Pts: 100)\n",
      "Coordinates:\n",
      "    Time                  (Number_of_CrIS_FORs) float64 ...\n",
      "    Latitude              (Number_of_CrIS_FORs) float32 ...\n",
      "    Longitude             (Number_of_CrIS_FORs) float32 ...\n",
      "    Pressure              (Number_of_CrIS_FORs, Number_of_P_Levels) float32 ...\n",
      "    Effective_Pressure    (Number_of_CrIS_FORs, Number_of_P_Levels) float32 ...\n",
      "Dimensions without coordinates: Number_of_Cloud_Emis_Hing_Pts, Number_of_Cloud_Layers, Number_of_CrIS_FORs, Number_of_Ispares, Number_of_MW_Spectral_Pts, Number_of_P_Levels, Number_of_Rspares, Number_of_Stability_Parameters, Number_of_Surf_Emis_Hinge_Pts\n",
      "Data variables:\n",
      "    quality_information   |S1 ...\n",
      "    CrIS_FORs             (Number_of_CrIS_FORs) float64 ...\n",
      "    View_Angle            (Number_of_CrIS_FORs) float32 ...\n",
      "    Satellite_Height      (Number_of_CrIS_FORs) float32 ...\n",
      "    FG_Mean_CO2           (Number_of_CrIS_FORs) float32 ...\n",
      "    Mean_CO2              (Number_of_CrIS_FORs) float32 ...\n",
      "    Solar_Zenith          (Number_of_CrIS_FORs) float32 ...\n",
      "    Ascending_Descending  (Number_of_CrIS_FORs) float32 ...\n",
      "    Topography            (Number_of_CrIS_FORs) float32 ...\n",
      "    Land_Fraction         (Number_of_CrIS_FORs) float32 ...\n",
      "    Surface_Pressure      (Number_of_CrIS_FORs) float32 ...\n",
      "    Skin_Temperature      (Number_of_CrIS_FORs) float32 ...\n",
      "    MIT_Skin_Temperature  (Number_of_CrIS_FORs) float32 ...\n",
      "    FG_Skin_Temperature   (Number_of_CrIS_FORs) float32 ...\n",
      "    MW_Surface_Class      (Number_of_CrIS_FORs) float32 ...\n",
      "    MW_Surface_Emis       (Number_of_CrIS_FORs) float32 ...\n",
      "    N_Smw_Per_FOV         (Number_of_CrIS_FORs) float64 ...\n",
      "    nemis_Per_FOV         (Number_of_CrIS_FORs) float64 ...\n",
      "    ncemis_Per_FOV        (Number_of_CrIS_FORs) float64 ...\n",
      "    ncld_Per_FOV          (Number_of_CrIS_FORs) float64 ...\n",
      "    Quality_Flag          (Number_of_CrIS_FORs) float64 ...\n",
      "    Ispare_Field          (Number_of_CrIS_FORs, Number_of_Ispares) float64 ...\n",
      "    Rspare_Field          (Number_of_CrIS_FORs, Number_of_Rspares) float32 ...\n",
      "    Cloud_Top_Pressure    (Number_of_CrIS_FORs, Number_of_Cloud_Layers) float32 ...\n",
      "    Cloud_Top_Fraction    (Number_of_CrIS_FORs, Number_of_Cloud_Layers) float32 ...\n",
      "    Temperature           (Number_of_CrIS_FORs, Number_of_P_Levels) float32 ...\n",
      "    MIT_Temperature       (Number_of_CrIS_FORs, Number_of_P_Levels) float32 ...\n",
      "    FG_Temperature        (Number_of_CrIS_FORs, Number_of_P_Levels) float32 ...\n",
      "    H2O                   (Number_of_CrIS_FORs, Number_of_P_Levels) float32 ...\n",
      "    MIT_H2O               (Number_of_CrIS_FORs, Number_of_P_Levels) float32 ...\n",
      "    FG_H2O                (Number_of_CrIS_FORs, Number_of_P_Levels) float32 ...\n",
      "    H2O_MR                (Number_of_CrIS_FORs, Number_of_P_Levels) float32 ...\n",
      "    MIT_H2O_MR            (Number_of_CrIS_FORs, Number_of_P_Levels) float32 ...\n",
      "    FG_H2O_MR             (Number_of_CrIS_FORs, Number_of_P_Levels) float32 ...\n",
      "    O3                    (Number_of_CrIS_FORs, Number_of_P_Levels) float32 ...\n",
      "    FG_O3                 (Number_of_CrIS_FORs, Number_of_P_Levels) float32 ...\n",
      "    O3_MR                 (Number_of_CrIS_FORs, Number_of_P_Levels) float32 ...\n",
      "    FG_O3_MR              (Number_of_CrIS_FORs, Number_of_P_Levels) float32 ...\n",
      "    Liquid_H2O            (Number_of_CrIS_FORs, Number_of_P_Levels) float32 ...\n",
      "    Liquid_H2O_MR         (Number_of_CrIS_FORs, Number_of_P_Levels) float32 ...\n",
      "    Ice_Liquid_Flag       (Number_of_CrIS_FORs, Number_of_P_Levels) float32 ...\n",
      "    CO                    (Number_of_CrIS_FORs, Number_of_P_Levels) float32 ...\n",
      "    CO_MR                 (Number_of_CrIS_FORs, Number_of_P_Levels) float32 ...\n",
      "    CH4                   (Number_of_CrIS_FORs, Number_of_P_Levels) float32 ...\n",
      "    CH4_MR                (Number_of_CrIS_FORs, Number_of_P_Levels) float32 ...\n",
      "    CO2                   (Number_of_CrIS_FORs, Number_of_P_Levels) float32 ...\n",
      "    HNO3                  (Number_of_CrIS_FORs, Number_of_P_Levels) float32 ...\n",
      "    HNO3_MR               (Number_of_CrIS_FORs, Number_of_P_Levels) float32 ...\n",
      "    N2O                   (Number_of_CrIS_FORs, Number_of_P_Levels) float32 ...\n",
      "    N2O_MR                (Number_of_CrIS_FORs, Number_of_P_Levels) float32 ...\n",
      "    SO2                   (Number_of_CrIS_FORs, Number_of_P_Levels) float32 ...\n",
      "    SO2_MR                (Number_of_CrIS_FORs, Number_of_P_Levels) float32 ...\n",
      "    MW_Frequency          (Number_of_CrIS_FORs, Number_of_MW_Spectral_Pts) float32 ...\n",
      "    MW_Emis               (Number_of_CrIS_FORs, Number_of_MW_Spectral_Pts) float32 ...\n",
      "    MIT_MW_Emis           (Number_of_CrIS_FORs, Number_of_MW_Spectral_Pts) float32 ...\n",
      "    IR_Emis_Freq          (Number_of_CrIS_FORs, Number_of_Surf_Emis_Hinge_Pts) float32 ...\n",
      "    FG_IR_Emis_Freq       (Number_of_CrIS_FORs, Number_of_Surf_Emis_Hinge_Pts) float32 ...\n",
      "    IR_Surface_Emis       (Number_of_CrIS_FORs, Number_of_Surf_Emis_Hinge_Pts) float32 ...\n",
      "    FG_IR_Surface_Emis    (Number_of_CrIS_FORs, Number_of_Surf_Emis_Hinge_Pts) float32 ...\n",
      "    IR_Surface_Refl       (Number_of_CrIS_FORs, Number_of_Surf_Emis_Hinge_Pts) float32 ...\n",
      "    Stability             (Number_of_CrIS_FORs, Number_of_Stability_Parameters) float32 ...\n",
      "    Cloud_Freq            (Number_of_CrIS_FORs, Number_of_Cloud_Layers, Number_of_Cloud_Emis_Hing_Pts) float32 ...\n",
      "    Cloud_Emis            (Number_of_CrIS_FORs, Number_of_Cloud_Layers, Number_of_Cloud_Emis_Hing_Pts) float32 ...\n",
      "    Cloud_Refl            (Number_of_CrIS_FORs, Number_of_Cloud_Layers, Number_of_Cloud_Emis_Hing_Pts) float32 ...\n",
      "Attributes:\n",
      "    Conventions:                              CF-1.5\n",
      "    Metadata_Conventions:                     CF-1.5, Unidata Datasset Discov...\n",
      "    standard_name_vocabulary:                 CF Standard Name Table (version...\n",
      "    project:                                  NPP Data Exploitation: NOAA NUCAPS\n",
      "    title:                                    NUCAPS_L2\n",
      "    summary:                                  NUCAPS retrieved profiles of te...\n",
      "    institution:                              DOC/NOAA/NESDIS/OSPO > Office o...\n",
      "    naming_authority:                         gov.noaa.nesdis.nde\n",
      "    instrument_name:                          CrIS, ATMS, VIIRS\n",
      "    creator_name:                             DOC/NOAA/NESDIS/STAR > IOSSPDT ...\n",
      "    creator_email:                            espcoperations@noaa.gov\n",
      "    creator_url:                              http://www.star.nesdis.noaa.gov\n",
      "    publisher_name:                           DOC/NOAA/NESDIS/NDE > NPP Data ...\n",
      "    publisher_email:                          espcoperations@noaa.gov\n",
      "    publisher_url:                            http://www.ospo.noaa.gov\n",
      "    references:                               Contact the OSPO PAL to request...\n",
      "    history:                                  Created by NUCAPS version 2.0, ...\n",
      "    processing_level:                         NOAA Level 2 data\n",
      "    geospatial_lat_units:                     degrees_north\n",
      "    geospatial_lon_units:                     degrees_east\n",
      "    date_created:                             2019-03-03T19:41:10Z\n",
      "    id:                                       6eabfb98-8577-4f24-8dd3-7bc48b8...\n",
      "    platform_name:                            NPP\n",
      "    Metadata_Link:                            NUCAPS-EDR_v2r0_npp_s2019030318...\n",
      "    source:                                   20190303_1848390_1849090_bin_00...\n",
      "    production_site:                          \n",
      "    production_environment:                   \n",
      "    start_orbit_number:                       38071\n",
      "    end_orbit_number:                         38071\n",
      "    starting_and_ending_orbit_node:           AA\n",
      "    day_night_data_flag:                      1\n",
      "    ascend_descend_data_flag:                 1\n",
      "    number_valid_scans:                       4\n",
      "    time_coverage_start:                      2019-03-03T18:48:39.0Z\n",
      "    time_coverage_end:                        2019-03-03T18:49:09.0Z\n",
      "    geospatial_first_scanline_first_fov_lat:  26.08\n",
      "    geospatial_first_scanline_last_fov_lat:   29.83\n",
      "    geospatial_first_scanline_first_fov_lon:  -96.54\n",
      "    geospatial_first_scanline_last_fov_lon:   -74.46\n",
      "    geospatial_last_scanline_first_fov_lat:   27.92\n",
      "    geospatial_last_scanline_last_fov_lat:    31.49\n",
      "    geospatial_last_scanline_first_fov_lon:   -96.39\n",
      "    geospatial_last_scanline_last_fov_lon:    -75.52\n",
      "    geospatial_bounds:                        POLYGON((-96.54 26.08, -88.47 2...\n",
      "    instrument_resolution:                    CrIS 2211 channels\n",
      "    retrieval_mode:                           IR+MW\n",
      "    number_valid_fovs:                        9\n"
     ]
    }
   ],
   "source": [
    "print(nucaps)"
   ]
  },
  {
   "cell_type": "markdown",
   "metadata": {},
   "source": [
    "## Finding surface temperature and H2O for one footprint\n",
    "\n",
    "Below, I am using xarray to select just the first footprint (Number_of_CrIS_FORs=0) to illustrate the steps. This new, smaller dataset is saved to a variable called __footprint__.\n",
    "\n",
    "In NUCAPS, temperature, water vapor, and trace gases are saved on a fixed grid that doesn't account for surface topography. Below, I am extracting the Pressure and Surface_Pressure variables for this single footprint:"
   ]
  },
  {
   "cell_type": "code",
   "execution_count": 4,
   "metadata": {},
   "outputs": [],
   "source": [
    "footprint = nucaps.sel(Number_of_CrIS_FORs=0)\n",
    "\n",
    "pres = footprint.Pressure.values\n",
    "surfpres =  footprint.Surface_Pressure.values"
   ]
  },
  {
   "cell_type": "markdown",
   "metadata": {},
   "source": [
    "Below, I have a plot below to show where the fixed grid levels are:"
   ]
  },
  {
   "cell_type": "code",
   "execution_count": 5,
   "metadata": {},
   "outputs": [
    {
     "data": {
      "image/png": "[encoded data removed]",
      "text/plain": [
       "<Figure size 144x360 with 1 Axes>"
      ]
     },
     "metadata": {
      "needs_background": "light"
     },
     "output_type": "display_data"
    }
   ],
   "source": [
    "xmin = 0\n",
    "xmax = 1\n",
    "\n",
    "plt.figure(figsize=[2,5])\n",
    "for i, y in enumerate(pres):\n",
    "    plt.hlines(y, xmin, xmax, colors='k', linestyles='solid', label=str(i))\n",
    "\n",
    "plt.ylabel(\"Fixed Pressure (mb) in NUCAPS\")\n",
    "\n",
    "ax1 = plt.gca() \n",
    "ax1.invert_yaxis()\n",
    "\n",
    "plt.show()"
   ]
  },
  {
   "cell_type": "markdown",
   "metadata": {},
   "source": [
    "The plot below to shows where the surface pressure is in comparison to the fixed grid values. For this footprint, the surface pressure is 1013.27 mb (dashed blue line), while the pressure value at the fixed level below and above (black lines) are 1013.95 mb and and 986.07 mb, respectively."
   ]
  },
  {
   "cell_type": "code",
   "execution_count": 6,
   "metadata": {},
   "outputs": [
    {
     "data": {
      "image/png": "[encoded data removed]",
      "text/plain": [
       "<Figure size 360x360 with 1 Axes>"
      ]
     },
     "metadata": {
      "needs_background": "light"
     },
     "output_type": "display_data"
    }
   ],
   "source": [
    "xmin = 0\n",
    "xmax = 1\n",
    "\n",
    "plt.figure(figsize=[5,5])\n",
    "for i, y in enumerate(pres):\n",
    "    plt.hlines(y, xmin, xmax, colors='k', linestyles='solid', label=str(i))\n",
    "    \n",
    "plt.hlines(surfpres, xmin, xmax, colors='b', linestyles='-.', label=\"Surface Pressure\")\n",
    "    \n",
    "plt.ylim(surfpres-35, surfpres+35)\n",
    "plt.gca().invert_yaxis()\n",
    "plt.show()"
   ]
  },
  {
   "cell_type": "markdown",
   "metadata": {},
   "source": [
    "I want an accurate measure of the surface temperature, water vapor, and trace gases. The bottom layer needs to be adjusted to account for the surface pressure instead of using the NUCAPS grid. The boundary layer multiplier (**blmult**)  quantifies the degree to which the bottom profile layer needs to be adjusted.\n",
    " \n",
    "![](blmult_images\\blmult.PNG)\\[Eq. 1\\]\n",
    "\n",
    "We need to determine is the index of the pressure level that is closest to Psurf while always satisfying the condition:\n",
    " \n",
    "![](blmult_images\\psurf_condition.PNG)\\[Eq. 2\\]\n",
    "\n",
    "This condition ensures that Plev(Pbot) is always less than Psurf by at least 5 hPa. Then to calculate surface temperature, which is preported on pressure levels, we can use:\n",
    "\n",
    "![](blmult_images\\T_surf.PNG)\\[Eq. 3\\]\n",
    "\n",
    "For surface water vapor, which is a trace gas on a layer grid, we use:\n",
    "\n",
    "![](blmult_images\\tgas_surf.PNG)\\[Eq. 4\\]\n",
    "\n",
    "\n",
    "Below, I have function (__find_surface__) that calculates where the conditions for Eq. 2 are met: \n",
    "\n",
    "* Condition 1: If the surface pressure is __less than__ the pressure at the closest point then surflev is __clev__\n",
    "* Condition 2: If the surface pressure is __greater than__ than the pressure at the closest point AND also __greater or equal to__ than 5.0 mb, then surflev is __clev__\n",
    "* Condition 3: If the surface pressure is __greater than__ than the pressure at the closest point AND also __greater than (and not equal to)__ 5.0 mb, then surflev is __clev+1__"
   ]
  },
  {
   "cell_type": "code",
   "execution_count": 7,
   "metadata": {},
   "outputs": [],
   "source": [
    "def find_surface(pres, surfpres):\n",
    "    # Find the index of where pressure is closest to the surface pressure:\n",
    "    diff = np.abs((pres - surfpres))\n",
    "    mindiff = np.min(diff)\n",
    "    clev = np.where(diff == mindiff)[0][0]\n",
    "    \n",
    "    surflev = clev\n",
    "    # Condition 1\n",
    "    if surfpres < pres[clev]:\n",
    "        surflev = clev\n",
    "        \n",
    "    # Condition 2\n",
    "    elif surfpres > pres[clev] and mindiff >= 5.0:\n",
    "        surflev = clev\n",
    "    \n",
    "    # Condition 3\n",
    "    elif surfpres > pres[clev] and mindiff > 5.0:\n",
    "        surflev = clev + 1\n",
    "        \n",
    "    return surflev"
   ]
  },
  {
   "cell_type": "markdown",
   "metadata": {},
   "source": [
    "Now that we know the surface level we can calculate **blmult** (Eq. 2)"
   ]
  },
  {
   "cell_type": "code",
   "execution_count": 8,
   "metadata": {},
   "outputs": [],
   "source": [
    "def calc_blmult(pres, surfpres, surflev):\n",
    "    num = surfpres - pres[surflev - 1]\n",
    "    denom = pres[surflev] - pres[surflev - 1]\n",
    "    blmult = num / denom\n",
    "    \n",
    "    return blmult"
   ]
  },
  {
   "cell_type": "markdown",
   "metadata": {},
   "source": [
    "As an example, let's try these two functions out for the first footprint. Running the code below, the **surflev** value is 96. In this example, the surface pressure < pres\\[clev\\] (triggering the if statement commands from condition 1)"
   ]
  },
  {
   "cell_type": "code",
   "execution_count": 9,
   "metadata": {},
   "outputs": [
    {
     "name": "stdout",
     "output_type": "stream",
     "text": [
      "96\n"
     ]
    }
   ],
   "source": [
    "surflev = find_surface(pres, surfpres)\n",
    "print(surflev)"
   ]
  },
  {
   "cell_type": "markdown",
   "metadata": {},
   "source": [
    "Running the code below, the blmult value is ~0.98 for this footprint. Note that BLMult will only range betweem 0 and 1."
   ]
  },
  {
   "cell_type": "code",
   "execution_count": 10,
   "metadata": {},
   "outputs": [
    {
     "name": "stdout",
     "output_type": "stream",
     "text": [
      "0.9756262012863341\n"
     ]
    }
   ],
   "source": [
    "blmult = calc_blmult(pres, surfpres, surflev)\n",
    "print(blmult)"
   ]
  },
  {
   "cell_type": "markdown",
   "metadata": {},
   "source": [
    "Now, I can use **blmult** and **surflev** to calculate the surface temperature (Eq. 3). Below, I extract all the vertical temperature values (which will have 100 values, one for each pressure level) into a variable called __temperature__. Then, I calculate the difference in the temperature (__t_diff__) above and below the surface pressure (using __surflev__ and __surflev-1__). __t_diff__ is adjusted by the **blmult** and added to the temperature on the top layer (__surflev - 1__) to get the surface temperature."
   ]
  },
  {
   "cell_type": "code",
   "execution_count": 11,
   "metadata": {},
   "outputs": [
    {
     "name": "stdout",
     "output_type": "stream",
     "text": [
      "297.59265090488293\n"
     ]
    }
   ],
   "source": [
    "# Surface Temperature\n",
    "temperature = footprint.Temperature.values\n",
    "\n",
    "t_diff = temperature[surflev] - temperature[surflev - 1]\n",
    "print(temperature[surflev - 1] + blmult * t_diff)"
   ]
  },
  {
   "cell_type": "markdown",
   "metadata": {},
   "source": [
    "We can use blmult and surflev values to calculate the water vapor (Eq. 4), but because it is reported as a column density, this value is reported on pressure layers. I extract all the vertical H2O values into a variable called __water_cd__. Then, I adjust the bottom level (__surflev-1__) by the blmult to get the surface water vapor."
   ]
  },
  {
   "cell_type": "code",
   "execution_count": 12,
   "metadata": {},
   "outputs": [
    {
     "name": "stdout",
     "output_type": "stream",
     "text": [
      "1.2148502201440307e+22\n"
     ]
    }
   ],
   "source": [
    "# Surface Water Vapor\n",
    "water_cd = footprint.H2O.values\n",
    "print(water_cd[surflev] * blmult)"
   ]
  },
  {
   "cell_type": "markdown",
   "metadata": {},
   "source": [
    "## Automating the surface calculation over all footprints\n",
    "\n",
    "We can consolidate the code above and create a loop over each footprint. As a reminder, there are 120 in the file and are indexed from 0 to 120 in the dimension **Number_of_CrIS_FORs** in the NUCAPS netCDF file. The steps inside the loop are similar to those above:\n",
    "\n",
    "1. Extract the pressure and surface pressure to find the surface level (**surflev_0**).\n",
    "2. Use the surface level to calculate BLMULT (**blmult_0**)\n",
    "3. Calculate the surface temperature (**tsfc_0**)\n",
    "4. Calculate the surface water vapor (**wsfc_0**)\n",
    "\n",
    "To access these values after the loop completes, I am storing the single-valued **surflev_0, blmult_0, tsfc_0, wsfc_0** in lists, which respectively are **surflev, blmult, tsfc, wsfc**."
   ]
  },
  {
   "cell_type": "code",
   "execution_count": 13,
   "metadata": {},
   "outputs": [],
   "source": [
    "surflev = []\n",
    "blmult = []\n",
    "tsfc = []\n",
    "wsfc = []\n",
    "\n",
    "for fp in nucaps.Number_of_CrIS_FORs.values:\n",
    "    # Extract the pressure and surface pressure for each footprint\n",
    "    footprint = nucaps.sel(Number_of_CrIS_FORs=fp)\n",
    "    pres = footprint.Pressure.values\n",
    "    surfpres = footprint.Surface_Pressure.item()\n",
    "    \n",
    "    # Find the surface level and blmult\n",
    "    surflev_0 = find_surface(pres, surfpres)\n",
    "    blmult_0 = calc_blmult(pres, surfpres, surflev_0)\n",
    "    \n",
    "    # Calculate surface Temp.\n",
    "    temperature = footprint.Temperature.values\n",
    "    t_diff = temperature[surflev_0] - temperature[surflev_0 + 1]\n",
    "    tsfc_0 = temperature[surflev_0 - 1] + blmult_0 * t_diff\n",
    "    \n",
    "    # Calculate surface WV\n",
    "    water_cd = footprint.H2O.values\n",
    "    wsfc_0 = water_cd[surflev_0] * blmult_0\n",
    "    \n",
    "    # Keep a list of the surface level, blmult, and sufrace Temp., WV\n",
    "    surflev.append(surflev_0)\n",
    "    blmult.append(blmult_0)\n",
    "    tsfc.append(tsfc_0)\n",
    "    wsfc.append(wsfc_0)"
   ]
  }
 ],
 "metadata": {
  "kernelspec": {
   "display_name": "Python 3",
   "language": "python",
   "name": "python3"
  },
  "language_info": {
   "codemirror_mode": {
    "name": "ipython",
    "version": 3
   },
   "file_extension": ".py",
   "mimetype": "text/x-python",
   "name": "python",
   "nbconvert_exporter": "python",
   "pygments_lexer": "ipython3",
   "version": "3.7.9"
  }
 },
 "nbformat": 4,
 "nbformat_minor": 4
}
